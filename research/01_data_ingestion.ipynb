{
 "cells": [
  {
   "cell_type": "markdown",
   "metadata": {},
   "source": [
    "### Data Ingestion: Workflow"
   ]
  },
  {
   "cell_type": "markdown",
   "metadata": {},
   "source": [
    "We will be following Workflow defined in the README File to complete Data Ingestion."
   ]
  },
  {
   "cell_type": "code",
   "execution_count": 21,
   "metadata": {},
   "outputs": [],
   "source": [
    "import os\n",
    "import sys"
   ]
  },
  {
   "cell_type": "code",
   "execution_count": 22,
   "metadata": {},
   "outputs": [],
   "source": [
    "sys.path.append(os.path.abspath(\"src\"))"
   ]
  },
  {
   "cell_type": "code",
   "execution_count": 23,
   "metadata": {},
   "outputs": [],
   "source": [
    "os.chdir('M:\\\\6. Personal Projects\\\\4. End to End NLP Text Summarization Using HuggingFace\\\\nlp_text_summarization_huggingface')"
   ]
  },
  {
   "cell_type": "code",
   "execution_count": 24,
   "metadata": {},
   "outputs": [
    {
     "name": "stdout",
     "output_type": "stream",
     "text": [
      "CWD: M:\\6. Personal Projects\\4. End to End NLP Text Summarization Using HuggingFace\\nlp_text_summarization_huggingface\n",
      "Python Path: ['c:\\\\Users\\\\Maisam\\\\anaconda3\\\\envs\\\\textS\\\\python38.zip', 'c:\\\\Users\\\\Maisam\\\\anaconda3\\\\envs\\\\textS\\\\DLLs', 'c:\\\\Users\\\\Maisam\\\\anaconda3\\\\envs\\\\textS\\\\lib', 'c:\\\\Users\\\\Maisam\\\\anaconda3\\\\envs\\\\textS', '', 'c:\\\\Users\\\\Maisam\\\\anaconda3\\\\envs\\\\textS\\\\lib\\\\site-packages', 'c:\\\\Users\\\\Maisam\\\\anaconda3\\\\envs\\\\textS\\\\lib\\\\site-packages\\\\win32', 'c:\\\\Users\\\\Maisam\\\\anaconda3\\\\envs\\\\textS\\\\lib\\\\site-packages\\\\win32\\\\lib', 'c:\\\\Users\\\\Maisam\\\\anaconda3\\\\envs\\\\textS\\\\lib\\\\site-packages\\\\Pythonwin', 'c:\\\\Users\\\\Maisam\\\\anaconda3\\\\envs\\\\textS\\\\lib\\\\site-packages\\\\setuptools\\\\_vendor', 'M:\\\\6. Personal Projects\\\\4. End to End NLP Text Summarization Using HuggingFace\\\\nlp_text_summarization_huggingface\\\\src']\n"
     ]
    }
   ],
   "source": [
    "print(\"CWD:\", os.getcwd())\n",
    "print(\"Python Path:\", sys.path)"
   ]
  },
  {
   "cell_type": "markdown",
   "metadata": {},
   "source": [
    "##### Creating Entity"
   ]
  },
  {
   "cell_type": "code",
   "execution_count": 43,
   "metadata": {},
   "outputs": [],
   "source": [
    "from dataclasses import dataclass\n",
    "from pathlib import Path\n",
    "\n",
    "\n",
    "@dataclass(frozen=True)\n",
    "class DataIngestionConfig:\n",
    "    root_dir: Path\n",
    "    source_url: str\n",
    "    local_data_file: Path\n",
    "    unzip_dir: Path"
   ]
  },
  {
   "cell_type": "markdown",
   "metadata": {},
   "source": [
    "#### Creating Configuration Manager"
   ]
  },
  {
   "cell_type": "code",
   "execution_count": 44,
   "metadata": {},
   "outputs": [],
   "source": [
    "from src.textSummarizer.constants import *\n",
    "from src.textSummarizer.utils.common import read_yaml, create_directories"
   ]
  },
  {
   "cell_type": "code",
   "execution_count": 46,
   "metadata": {},
   "outputs": [],
   "source": [
    "class ConfigurationManager:\n",
    "    def __init__(\n",
    "            self,\n",
    "            config_filepath = CONFIG_FILE_PATH,\n",
    "            params_filepath = PARAMS_FILE_PATH\n",
    "            ):\n",
    "\n",
    "            self.config =   read_yaml(config_filepath)\n",
    "            self.params =   read_yaml(params_filepath)\n",
    "\n",
    "            create_directories([self.config.artifacts_root])\n",
    "\n",
    "    def get_data_ingestion_config(self) -> DataIngestionConfig:\n",
    "        config = self.config.data_ingestion\n",
    "\n",
    "        create_directories([config.root_dir])\n",
    "        \n",
    "        data_ingestion_config = DataIngestionConfig(\n",
    "            root_dir = config.root_dir,\n",
    "            source_url = config.source_url,\n",
    "            local_data_file = config.local_data_file,\n",
    "            unzip_dir = config.unzip_dir\n",
    "        )\n",
    "        return data_ingestion_config"
   ]
  },
  {
   "cell_type": "code",
   "execution_count": 47,
   "metadata": {},
   "outputs": [],
   "source": [
    "import urllib.request as request\n",
    "import zipfile\n",
    "from src.textSummarizer.logging import logger\n",
    "from src.textSummarizer.utils.common import get_size"
   ]
  },
  {
   "cell_type": "code",
   "execution_count": 48,
   "metadata": {},
   "outputs": [],
   "source": [
    "class DataIngestion:\n",
    "    def __init__(self, config: DataIngestionConfig):\n",
    "        self.config = config\n",
    "\n",
    "    def download_file(self):\n",
    "        if not os.path.exists(self.config.local_data_file):\n",
    "            filename, headers = request.urlretrieve(\n",
    "                url = self.config.source_url, \n",
    "                filename = self.config.local_data_file\n",
    "                )\n",
    "        \n",
    "            logger.info(f\"{filename} Downloaded! With Following Info: \\n{headers}\")\n",
    "        else:\n",
    "            logger.info(f\"File Already Exists! Size: {get_size(Path(self.config.local_data_file))}\")\n",
    "    \n",
    "    def extract_zip_file(self):\n",
    "        \"\"\"\n",
    "        zip_file_path: str\n",
    "        extracts zip file in given directory\n",
    "        funtion returns None\n",
    "        \"\"\"\n",
    "\n",
    "        unzip_path = self.config.unzip_dir\n",
    "        os.makedirs (unzip_path, exist_ok=True)\n",
    "        with zipfile.ZipFile(self.config.local_data_file, 'r') as zip_ref:\n",
    "            zip_ref.extractall(unzip_path)"
   ]
  },
  {
   "cell_type": "code",
   "execution_count": 49,
   "metadata": {},
   "outputs": [
    {
     "name": "stdout",
     "output_type": "stream",
     "text": [
      "[2025-01-13 18:11:39,226: INFO: common: yaml file: config\\config.yaml loaded successfully]\n",
      "[2025-01-13 18:11:39,228: INFO: common: yaml file: params.yaml loaded successfully]\n",
      "[2025-01-13 18:11:39,229: INFO: common: created directory at: artifacts]\n",
      "[2025-01-13 18:11:39,231: INFO: common: created directory at: artifacts/data_ingestion]\n",
      "[2025-01-13 18:11:40,557: INFO: 3795769655: artifacts/data_ingestion/data.zip Downloaded! With Following Info: \n",
      "Connection: close\n",
      "Content-Length: 7903594\n",
      "Cache-Control: max-age=300\n",
      "Content-Security-Policy: default-src 'none'; style-src 'unsafe-inline'; sandbox\n",
      "Content-Type: application/zip\n",
      "ETag: \"dbc016a060da18070593b83afff580c9b300f0b6ea4147a7988433e04df246ca\"\n",
      "Strict-Transport-Security: max-age=31536000\n",
      "X-Content-Type-Options: nosniff\n",
      "X-Frame-Options: deny\n",
      "X-XSS-Protection: 1; mode=block\n",
      "X-GitHub-Request-Id: 45F8:60888:5E7D9B:7E1A77:6785575A\n",
      "Accept-Ranges: bytes\n",
      "Date: Mon, 13 Jan 2025 18:11:40 GMT\n",
      "Via: 1.1 varnish\n",
      "X-Served-By: cache-lhr-egll1980082-LHR\n",
      "X-Cache: MISS\n",
      "X-Cache-Hits: 0\n",
      "X-Timer: S1736791900.287408,VS0,VE323\n",
      "Vary: Authorization,Accept-Encoding,Origin\n",
      "Access-Control-Allow-Origin: *\n",
      "Cross-Origin-Resource-Policy: cross-origin\n",
      "X-Fastly-Request-ID: 6039916216aca59e6db557605c18b2f3d8e54a58\n",
      "Expires: Mon, 13 Jan 2025 18:16:40 GMT\n",
      "Source-Age: 0\n",
      "\n",
      "]\n"
     ]
    }
   ],
   "source": [
    "try:\n",
    "    config = ConfigurationManager()\n",
    "    data_ingestion_config = config.get_data_ingestion_config()\n",
    "    data_ingestion = DataIngestion(config = data_ingestion_config)\n",
    "    data_ingestion.download_file()\n",
    "    data_ingestion.extract_zip_file()\n",
    "except Exception as e:\n",
    "    raise e"
   ]
  }
 ],
 "metadata": {
  "kernelspec": {
   "display_name": "textS",
   "language": "python",
   "name": "python3"
  },
  "language_info": {
   "codemirror_mode": {
    "name": "ipython",
    "version": 3
   },
   "file_extension": ".py",
   "mimetype": "text/x-python",
   "name": "python",
   "nbconvert_exporter": "python",
   "pygments_lexer": "ipython3",
   "version": "3.8.20"
  }
 },
 "nbformat": 4,
 "nbformat_minor": 2
}
